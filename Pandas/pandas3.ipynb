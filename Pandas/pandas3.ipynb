{
 "cells": [
  {
   "cell_type": "markdown",
   "metadata": {},
   "source": [
    "# Лабраторная работа №3 (Pandas)"
   ]
  },
  {
   "cell_type": "code",
   "execution_count": 1,
   "metadata": {},
   "outputs": [],
   "source": [
    "import numpy as np\n",
    "import pandas as pd\n",
    "import matplotlib.pyplot as plt"
   ]
  },
  {
   "cell_type": "markdown",
   "metadata": {},
   "source": [
    "Найти евклидово расстоняие между двумя объектами Series"
   ]
  },
  {
   "cell_type": "code",
   "execution_count": null,
   "metadata": {},
   "outputs": [],
   "source": [
    "s1 = pd.Series(np.random.randint(1, 5, 5))\n",
    "s2 = pd.Series(np.random.randint(1, 5, 5))\n",
    "eucDistance = np.linalg.norm(s1 - s2)\n",
    "print(s1)\n",
    "print(s2)\n",
    "print(eucDistance)"
   ]
  },
  {
   "cell_type": "markdown",
   "metadata": {},
   "source": [
    "Найти индексы локальных максимумов в объекте Series"
   ]
  },
  {
   "cell_type": "code",
   "execution_count": 2,
   "metadata": {},
   "outputs": [
    {
     "name": "stdout",
     "output_type": "stream",
     "text": [
      "[1 2 1 3 6 1 1 6 2 9]\n"
     ]
    },
    {
     "data": {
      "image/png": "[encoded data removed]",
      "text/plain": [
       "<Figure size 432x288 with 1 Axes>"
      ]
     },
     "metadata": {
      "needs_background": "light"
     },
     "output_type": "display_data"
    },
    {
     "name": "stdout",
     "output_type": "stream",
     "text": [
      "[-2  2  0 -2  1  1 -2  2]\n",
      "[1 4 7]\n"
     ]
    }
   ],
   "source": [
    "s = pd.Series(np.random.randint(0, 10, 10))\n",
    "print(s.values)\n",
    "plt.plot(s.index, s.values)\n",
    "plt.show()\n",
    "extr = np.diff(np.sign(np.diff(s)))\n",
    "print(extr)\n",
    "indexes = np.where(extr == -2)[0] + 1\n",
    "print(indexes)"
   ]
  },
  {
   "cell_type": "markdown",
   "metadata": {},
   "source": [
    "Заменить пробелы наименее часто встречающимся символов"
   ]
  },
  {
   "cell_type": "code",
   "execution_count": 6,
   "metadata": {},
   "outputs": [
    {
     "name": "stdout",
     "output_type": "stream",
     "text": [
      "d\n"
     ]
    },
    {
     "data": {
      "text/plain": [
       "'bnbdberdkekbddare'"
      ]
     },
     "execution_count": 6,
     "metadata": {},
     "output_type": "execute_result"
    }
   ],
   "source": [
    "str_test = 'bnb ber kekb dare'\n",
    " \n",
    "s = pd.Series(list(str_test))\n",
    "freq = s.value_counts()\n",
    "print(freq.index[-1])\n",
    "least_freq = freq.index[-1]\n",
    "''.join(s.replace(' ', least_freq))"
   ]
  },
  {
   "cell_type": "markdown",
   "metadata": {},
   "source": [
    "Создать объект Series, который содержит в индексах даты выходных дней субботы, а в значениях случайные числа от 1 до 10"
   ]
  },
  {
   "cell_type": "code",
   "execution_count": 7,
   "metadata": {},
   "outputs": [
    {
     "data": {
      "text/plain": [
       "2020-09-05    2\n",
       "2020-09-12    7\n",
       "2020-09-19    7\n",
       "2020-09-26    7\n",
       "2020-10-03    5\n",
       "2020-10-10    9\n",
       "2020-10-17    2\n",
       "2020-10-24    9\n",
       "2020-10-31    5\n",
       "2020-11-07    8\n",
       "2020-11-14    6\n",
       "2020-11-21    4\n",
       "2020-11-28    9\n",
       "2020-12-05    5\n",
       "2020-12-12    5\n",
       "Freq: W-SAT, dtype: int32"
      ]
     },
     "execution_count": 7,
     "metadata": {},
     "output_type": "execute_result"
    }
   ],
   "source": [
    "s = pd.Series(np.random.randint(1, 10, 15), pd.date_range('2020-09-01', periods = 15, freq = 'W-SAT'))\n",
    "s"
   ]
  },
  {
   "cell_type": "markdown",
   "metadata": {},
   "source": [
    " Заполнить пропущенные даты, значением выше (заполненной даты)"
   ]
  },
  {
   "cell_type": "code",
   "execution_count": 9,
   "metadata": {},
   "outputs": [
    {
     "name": "stdout",
     "output_type": "stream",
     "text": [
      "2018-01-01    2\n",
      "2018-01-02    2\n",
      "2018-01-03    5\n",
      "2018-01-04    5\n",
      "2018-01-05    5\n",
      "2018-01-06    8\n",
      "2018-01-07    8\n",
      "2018-01-08    1\n",
      "Freq: D, dtype: int64\n"
     ]
    }
   ],
   "source": [
    "s = pd.Series([2, 5, 8, 1], index=pd.to_datetime(['2018-01-01', '2018-01-03', '2018-01-06', '2018-01-08']))\n",
    "ans = s.resample('D').ffill()\n",
    "print(ans)"
   ]
  },
  {
   "cell_type": "markdown",
   "metadata": {},
   "source": [
    " Вычислить автокорреляцию объекта Series"
   ]
  },
  {
   "cell_type": "code",
   "execution_count": 12,
   "metadata": {},
   "outputs": [
    {
     "name": "stdout",
     "output_type": "stream",
     "text": [
      "0     5\n",
      "1     1\n",
      "2     2\n",
      "3     0\n",
      "4     6\n",
      "5     7\n",
      "6     4\n",
      "7     4\n",
      "8     2\n",
      "9     0\n",
      "10    5\n",
      "11    1\n",
      "12    1\n",
      "13    6\n",
      "14    3\n",
      "15    5\n",
      "dtype: int32\n",
      "[1.0, -0.016725352112676062, -0.11702333678026305, -0.15612817806884757]\n"
     ]
    }
   ],
   "source": [
    "n = 16\n",
    " \n",
    "s = pd.Series(np.random.randint(0, 8, n))\n",
    "print(s)\n",
    "\n",
    "autocorr1 = [s.autocorr(lag = i) for i in range(n // 4)]\n",
    "print(autocorr1)"
   ]
  }
 ],
 "metadata": {
  "kernelspec": {
   "display_name": "Python 3",
   "language": "python",
   "name": "python3"
  },
  "language_info": {
   "codemirror_mode": {
    "name": "ipython",
    "version": 3
   },
   "file_extension": ".py",
   "mimetype": "text/x-python",
   "name": "python",
   "nbconvert_exporter": "python",
   "pygments_lexer": "ipython3",
   "version": "3.8.3"
  }
 },
 "nbformat": 4,
 "nbformat_minor": 4
}
