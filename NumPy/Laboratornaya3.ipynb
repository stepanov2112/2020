{
 "cells": [
  {
   "cell_type": "markdown",
   "metadata": {},
   "source": [
    "# Лабораторная работа №3"
   ]
  },
  {
   "cell_type": "code",
   "execution_count": 2,
   "metadata": {},
   "outputs": [],
   "source": [
    "import numpy as np"
   ]
  },
  {
   "cell_type": "markdown",
   "metadata": {},
   "source": [
    "Дан вектор [1, 2, 3, 4, 5], построить новый вектор с тремя нулями между каждым значением"
   ]
  },
  {
   "cell_type": "code",
   "execution_count": 3,
   "metadata": {},
   "outputs": [
    {
     "name": "stdout",
     "output_type": "stream",
     "text": [
      "[1. 0. 0. 0. 2. 0. 0. 0. 3. 0. 0. 0. 4. 0. 0. 0. 5.]\n"
     ]
    }
   ],
   "source": [
    "Z = np.array([1,2,3,4,5])\n",
    "nz = 3\n",
    "Z0 = np.zeros(len(Z) + (len(Z)-1)*(nz))\n",
    "Z0[::nz+1] = Z\n",
    "print(Z0)"
   ]
  },
  {
   "cell_type": "markdown",
   "metadata": {},
   "source": [
    "Поменять 2 строки в матрице"
   ]
  },
  {
   "cell_type": "code",
   "execution_count": 7,
   "metadata": {},
   "outputs": [
    {
     "name": "stdout",
     "output_type": "stream",
     "text": [
      "[[ 0  1  2  3  4]\n",
      " [ 5  6  7  8  9]\n",
      " [10 11 12 13 14]\n",
      " [15 16 17 18 19]\n",
      " [20 21 22 23 24]]\n",
      "\n",
      "[[ 5  6  7  8  9]\n",
      " [ 0  1  2  3  4]\n",
      " [10 11 12 13 14]\n",
      " [15 16 17 18 19]\n",
      " [20 21 22 23 24]]\n"
     ]
    }
   ],
   "source": [
    "A = np.arange(25).reshape(5,5)\n",
    "print(A)\n",
    "A[[0,1]] = A[[1,0]]\n",
    "print()\n",
    "print(A)"
   ]
  },
  {
   "cell_type": "markdown",
   "metadata": {},
   "source": [
    "Рассмотрим набор из 10 троек, описывающих 10 треугольников (с общими вершинами), найти множество уникальных отрезков, составляющих все треугольники"
   ]
  },
  {
   "cell_type": "code",
   "execution_count": 8,
   "metadata": {},
   "outputs": [
    {
     "name": "stdout",
     "output_type": "stream",
     "text": [
      "[( 4, 37) ( 4, 58) ( 5, 14) (14, 14) (18, 23) (18, 41) (20, 34) (20, 58)\n",
      " (23, 41) (25, 55) (25, 56) (29, 64) (29, 68) (32, 43) (32, 71) (32, 76)\n",
      " (32, 78) (33, 59) (33, 88) (34, 58) (37, 58) (43, 76) (48, 72) (48, 80)\n",
      " (55, 56) (59, 88) (64, 68) (71, 78) (72, 80)]\n"
     ]
    }
   ],
   "source": [
    "faces = np.random.randint(0,100,(10,3))\n",
    "F = np.roll(faces.repeat(2,axis=1),-1,axis=1)\n",
    "F = F.reshape(len(F)*3,2)\n",
    "F = np.sort(F,axis=1)\n",
    "G = F.view( dtype=[('p0',F.dtype),('p1',F.dtype)] )\n",
    "G = np.unique(G)\n",
    "print(G)"
   ]
  },
  {
   "cell_type": "markdown",
   "metadata": {},
   "source": [
    "Дан массив C; создать массив A, что np.bincount(A) == C"
   ]
  },
  {
   "cell_type": "code",
   "execution_count": 9,
   "metadata": {},
   "outputs": [
    {
     "name": "stdout",
     "output_type": "stream",
     "text": [
      "[1 1 2 3 4 4 6]\n"
     ]
    }
   ],
   "source": [
    "C = np.bincount([1,1,2,3,4,4,6])\n",
    "A = np.repeat(np.arange(len(C)), C)\n",
    "print(A)"
   ]
  },
  {
   "cell_type": "markdown",
   "metadata": {},
   "source": [
    "Посчитать среднее, используя плавающее окно"
   ]
  },
  {
   "cell_type": "code",
   "execution_count": 10,
   "metadata": {},
   "outputs": [
    {
     "name": "stdout",
     "output_type": "stream",
     "text": [
      "[ 1.  2.  3.  4.  5.  6.  7.  8.  9. 10. 11. 12. 13. 14. 15. 16. 17. 18.]\n"
     ]
    }
   ],
   "source": [
    "def moving_average(a, n=3):\n",
    "    ret = np.cumsum(a, dtype=float)\n",
    "    ret[n:] = ret[n:] - ret[:-n]\n",
    "    return ret[n - 1:] / n\n",
    "\n",
    "print(moving_average(np.arange(20), 3))"
   ]
  },
  {
   "cell_type": "markdown",
   "metadata": {},
   "source": [
    "Дан вектор Z, построить матрицу, первая строка которой (Z[0],Z[1],Z[2]), каждая последующая сдвинута на 1 (последняя (Z[-3],Z[-2],Z[-1]))"
   ]
  },
  {
   "cell_type": "code",
   "execution_count": 11,
   "metadata": {},
   "outputs": [
    {
     "name": "stdout",
     "output_type": "stream",
     "text": [
      "[[0 1 2]\n",
      " [1 2 3]\n",
      " [2 3 4]\n",
      " [3 4 5]\n",
      " [4 5 6]\n",
      " [5 6 7]\n",
      " [6 7 8]\n",
      " [7 8 9]]\n"
     ]
    }
   ],
   "source": [
    "from numpy.lib import stride_tricks\n",
    "\n",
    "def rolling(a, window):\n",
    "    shape = (a.size - window + 1, window)\n",
    "    strides = (a.itemsize, a.itemsize)\n",
    "    return stride_tricks.as_strided(a, shape=shape, strides=strides)\n",
    "Z = rolling(np.arange(10), 3)\n",
    "print(Z)"
   ]
  },
  {
   "cell_type": "code",
   "execution_count": 3,
   "metadata": {},
   "outputs": [
    {
     "name": "stdout",
     "output_type": "stream",
     "text": [
      "[[0 1 2]\n",
      " [1 2 3]\n",
      " [2 3 4]\n",
      " [3 4 5]\n",
      " [4 5 6]\n",
      " [5 6 7]\n",
      " [6 7 8]\n",
      " [7 8 9]]\n"
     ]
    }
   ],
   "source": [
    "a = np.arange(10)\n",
    "s = 3\n",
    "b = []\n",
    "for i in range(len(a)+1-s):\n",
    "    list = []\n",
    "    for j in range(s):\n",
    "        list.append(a[i+j])\n",
    "    b.append(list)\n",
    "c = np.array(b)\n",
    "print(c)"
   ]
  },
  {
   "cell_type": "markdown",
   "metadata": {},
   "source": [
    "Инвертировать булево значение, или поменять знак у числового массива без создания нового"
   ]
  },
  {
   "cell_type": "code",
   "execution_count": 11,
   "metadata": {},
   "outputs": [
    {
     "name": "stdout",
     "output_type": "stream",
     "text": [
      "[ 0  1  2  3 -4 -5 -6  7  8  9]\n",
      "[ 0 -1 -2 -3  4  5  6 -7 -8 -9]\n"
     ]
    }
   ],
   "source": [
    "a = np.arange(10)\n",
    "a[(a>3) & (a<7)] *= -1\n",
    "print(a)\n",
    "print(np.negative(a))"
   ]
  },
  {
   "cell_type": "markdown",
   "metadata": {},
   "source": [
    "Посчитать ранг матрицы"
   ]
  },
  {
   "cell_type": "code",
   "execution_count": 16,
   "metadata": {},
   "outputs": [
    {
     "name": "stdout",
     "output_type": "stream",
     "text": [
      "10\n"
     ]
    }
   ],
   "source": [
    "a = np.random.uniform(0,1,(10,10))\n",
    "rank = np.linalg.matrix_rank(a)\n",
    "print(rank)"
   ]
  },
  {
   "cell_type": "markdown",
   "metadata": {},
   "source": [
    "Найти наиболее частое значение в массиве"
   ]
  },
  {
   "cell_type": "code",
   "execution_count": 13,
   "metadata": {},
   "outputs": [
    {
     "name": "stdout",
     "output_type": "stream",
     "text": [
      "[6 6 4 8 5 7 4 8 2 7 3 9 5 7 5 0 1 0 1 6 6 0 4 8 8 9 0 9 4 4 0 8 2 8 5 1 8\n",
      " 3 0 2 8 1 8 9 7 8 9 1 0 0]\n",
      "[ 8  5  3  2  5  4  4  4 10  5]\n",
      "8\n"
     ]
    }
   ],
   "source": [
    "a = np.random.randint(0,10,50)\n",
    "print(a)\n",
    "print(np.bincount(a))\n",
    "print(np.bincount(a).argmax())"
   ]
  },
  {
   "cell_type": "markdown",
   "metadata": {},
   "source": [
    "Извлечь все смежные 3x3 блоки из 10x10 матрицы"
   ]
  },
  {
   "cell_type": "code",
   "execution_count": 18,
   "metadata": {},
   "outputs": [
    {
     "name": "stdout",
     "output_type": "stream",
     "text": [
      "[[[[1 0 0]\n",
      "   [2 3 2]\n",
      "   [3 1 1]]\n",
      "\n",
      "  [[0 0 0]\n",
      "   [3 2 2]\n",
      "   [1 1 3]]\n",
      "\n",
      "  [[0 0 4]\n",
      "   [2 2 2]\n",
      "   [1 3 2]]\n",
      "\n",
      "  [[0 4 0]\n",
      "   [2 2 4]\n",
      "   [3 2 1]]\n",
      "\n",
      "  [[4 0 1]\n",
      "   [2 4 1]\n",
      "   [2 1 3]]\n",
      "\n",
      "  [[0 1 1]\n",
      "   [4 1 3]\n",
      "   [1 3 0]]\n",
      "\n",
      "  [[1 1 1]\n",
      "   [1 3 3]\n",
      "   [3 0 2]]\n",
      "\n",
      "  [[1 1 0]\n",
      "   [3 3 2]\n",
      "   [0 2 4]]]\n",
      "\n",
      "\n",
      " [[[2 3 2]\n",
      "   [3 1 1]\n",
      "   [3 0 0]]\n",
      "\n",
      "  [[3 2 2]\n",
      "   [1 1 3]\n",
      "   [0 0 1]]\n",
      "\n",
      "  [[2 2 2]\n",
      "   [1 3 2]\n",
      "   [0 1 3]]\n",
      "\n",
      "  [[2 2 4]\n",
      "   [3 2 1]\n",
      "   [1 3 1]]\n",
      "\n",
      "  [[2 4 1]\n",
      "   [2 1 3]\n",
      "   [3 1 2]]\n",
      "\n",
      "  [[4 1 3]\n",
      "   [1 3 0]\n",
      "   [1 2 2]]\n",
      "\n",
      "  [[1 3 3]\n",
      "   [3 0 2]\n",
      "   [2 2 0]]\n",
      "\n",
      "  [[3 3 2]\n",
      "   [0 2 4]\n",
      "   [2 0 0]]]\n",
      "\n",
      "\n",
      " [[[3 1 1]\n",
      "   [3 0 0]\n",
      "   [3 1 4]]\n",
      "\n",
      "  [[1 1 3]\n",
      "   [0 0 1]\n",
      "   [1 4 2]]\n",
      "\n",
      "  [[1 3 2]\n",
      "   [0 1 3]\n",
      "   [4 2 1]]\n",
      "\n",
      "  [[3 2 1]\n",
      "   [1 3 1]\n",
      "   [2 1 0]]\n",
      "\n",
      "  [[2 1 3]\n",
      "   [3 1 2]\n",
      "   [1 0 2]]\n",
      "\n",
      "  [[1 3 0]\n",
      "   [1 2 2]\n",
      "   [0 2 1]]\n",
      "\n",
      "  [[3 0 2]\n",
      "   [2 2 0]\n",
      "   [2 1 2]]\n",
      "\n",
      "  [[0 2 4]\n",
      "   [2 0 0]\n",
      "   [1 2 0]]]\n",
      "\n",
      "\n",
      " [[[3 0 0]\n",
      "   [3 1 4]\n",
      "   [0 3 0]]\n",
      "\n",
      "  [[0 0 1]\n",
      "   [1 4 2]\n",
      "   [3 0 1]]\n",
      "\n",
      "  [[0 1 3]\n",
      "   [4 2 1]\n",
      "   [0 1 1]]\n",
      "\n",
      "  [[1 3 1]\n",
      "   [2 1 0]\n",
      "   [1 1 0]]\n",
      "\n",
      "  [[3 1 2]\n",
      "   [1 0 2]\n",
      "   [1 0 2]]\n",
      "\n",
      "  [[1 2 2]\n",
      "   [0 2 1]\n",
      "   [0 2 2]]\n",
      "\n",
      "  [[2 2 0]\n",
      "   [2 1 2]\n",
      "   [2 2 2]]\n",
      "\n",
      "  [[2 0 0]\n",
      "   [1 2 0]\n",
      "   [2 2 3]]]\n",
      "\n",
      "\n",
      " [[[3 1 4]\n",
      "   [0 3 0]\n",
      "   [1 4 4]]\n",
      "\n",
      "  [[1 4 2]\n",
      "   [3 0 1]\n",
      "   [4 4 4]]\n",
      "\n",
      "  [[4 2 1]\n",
      "   [0 1 1]\n",
      "   [4 4 0]]\n",
      "\n",
      "  [[2 1 0]\n",
      "   [1 1 0]\n",
      "   [4 0 4]]\n",
      "\n",
      "  [[1 0 2]\n",
      "   [1 0 2]\n",
      "   [0 4 2]]\n",
      "\n",
      "  [[0 2 1]\n",
      "   [0 2 2]\n",
      "   [4 2 0]]\n",
      "\n",
      "  [[2 1 2]\n",
      "   [2 2 2]\n",
      "   [2 0 0]]\n",
      "\n",
      "  [[1 2 0]\n",
      "   [2 2 3]\n",
      "   [0 0 4]]]\n",
      "\n",
      "\n",
      " [[[0 3 0]\n",
      "   [1 4 4]\n",
      "   [4 1 0]]\n",
      "\n",
      "  [[3 0 1]\n",
      "   [4 4 4]\n",
      "   [1 0 4]]\n",
      "\n",
      "  [[0 1 1]\n",
      "   [4 4 0]\n",
      "   [0 4 4]]\n",
      "\n",
      "  [[1 1 0]\n",
      "   [4 0 4]\n",
      "   [4 4 1]]\n",
      "\n",
      "  [[1 0 2]\n",
      "   [0 4 2]\n",
      "   [4 1 0]]\n",
      "\n",
      "  [[0 2 2]\n",
      "   [4 2 0]\n",
      "   [1 0 3]]\n",
      "\n",
      "  [[2 2 2]\n",
      "   [2 0 0]\n",
      "   [0 3 2]]\n",
      "\n",
      "  [[2 2 3]\n",
      "   [0 0 4]\n",
      "   [3 2 1]]]\n",
      "\n",
      "\n",
      " [[[1 4 4]\n",
      "   [4 1 0]\n",
      "   [1 0 2]]\n",
      "\n",
      "  [[4 4 4]\n",
      "   [1 0 4]\n",
      "   [0 2 4]]\n",
      "\n",
      "  [[4 4 0]\n",
      "   [0 4 4]\n",
      "   [2 4 0]]\n",
      "\n",
      "  [[4 0 4]\n",
      "   [4 4 1]\n",
      "   [4 0 4]]\n",
      "\n",
      "  [[0 4 2]\n",
      "   [4 1 0]\n",
      "   [0 4 1]]\n",
      "\n",
      "  [[4 2 0]\n",
      "   [1 0 3]\n",
      "   [4 1 4]]\n",
      "\n",
      "  [[2 0 0]\n",
      "   [0 3 2]\n",
      "   [1 4 3]]\n",
      "\n",
      "  [[0 0 4]\n",
      "   [3 2 1]\n",
      "   [4 3 3]]]\n",
      "\n",
      "\n",
      " [[[4 1 0]\n",
      "   [1 0 2]\n",
      "   [3 2 3]]\n",
      "\n",
      "  [[1 0 4]\n",
      "   [0 2 4]\n",
      "   [2 3 4]]\n",
      "\n",
      "  [[0 4 4]\n",
      "   [2 4 0]\n",
      "   [3 4 3]]\n",
      "\n",
      "  [[4 4 1]\n",
      "   [4 0 4]\n",
      "   [4 3 1]]\n",
      "\n",
      "  [[4 1 0]\n",
      "   [0 4 1]\n",
      "   [3 1 3]]\n",
      "\n",
      "  [[1 0 3]\n",
      "   [4 1 4]\n",
      "   [1 3 0]]\n",
      "\n",
      "  [[0 3 2]\n",
      "   [1 4 3]\n",
      "   [3 0 2]]\n",
      "\n",
      "  [[3 2 1]\n",
      "   [4 3 3]\n",
      "   [0 2 0]]]]\n"
     ]
    }
   ],
   "source": [
    "Z = np.random.randint(0,5,(10,10))\n",
    "n = 3\n",
    "i = 1 + (Z.shape[0] - n)\n",
    "j = 1 + (Z.shape[1] - n)\n",
    "C = stride_tricks.as_strided(Z, shape=(i, j, n, n), strides=Z.strides + Z.strides)\n",
    "print(C)"
   ]
  },
  {
   "cell_type": "markdown",
   "metadata": {},
   "source": [
    "Рассмотрим множество матриц (n,n) и множество из p векторов (n,1). Посчитать сумму p произведений матриц (результат имеет размерность (n,1))"
   ]
  },
  {
   "cell_type": "code",
   "execution_count": null,
   "metadata": {},
   "outputs": [],
   "source": [
    "p, n = 5, 10\n"
   ]
  },
  {
   "cell_type": "markdown",
   "metadata": {},
   "source": [
    "Дан массив 16x16, посчитать сумму по блокам 4x4"
   ]
  },
  {
   "cell_type": "code",
   "execution_count": 9,
   "metadata": {},
   "outputs": [
    {
     "name": "stdout",
     "output_type": "stream",
     "text": [
      "[[29 92 12 57 82 45 73 34 63 35 29 34 64 53 44 17]\n",
      " [38 36 25 58 46 67 41 33 29 88 57 55 30 95 40 55]\n",
      " [26 70 43 58 88 20 58 81 85 42 80 49 82 42 54 41]\n",
      " [14 66 53 25 87 81 70 44 95 32 73 64 34 88 93 37]\n",
      " [10 28 58 60 32 16 94 32 23 67 65 55 75 15 22 51]\n",
      " [90 73 45 16 38 54 61 15 86 10 82 25 84 44 88 38]\n",
      " [27 33 32 44 75 96 52 82 40 56 86 20 93 31 87 66]\n",
      " [96 12 15 74 65 87 70 69 63 69 68 43 97 61 59 56]\n",
      " [34 21 30 36 45 67 54 49 57 57 60 67 80 26 16 34]\n",
      " [33 83 12 14 41 97 66 58 55 63 88 94 47 55 24 37]\n",
      " [57 45 50 54 97 84 87 76 32 61 96 91 26 53 33 82]\n",
      " [31 68 52 88 62 46 91 23 77 32 16 15 57 62 59 90]\n",
      " [52 38 39 41 54 84 72 23 39 47 90 16 84 53 24 74]\n",
      " [39 96 73 71 56 69 83 88 69 68 94 85 69 61 78 91]\n",
      " [11 85 71 52 96 13 13 41 94 38 43 90 54 80 13 24]\n",
      " [76 47 65 22 96 41 43 29 10 40 34 70 39 96 89 87]]\n",
      "[[ 702  950  910  869]\n",
      " [ 713  938  858  967]\n",
      " [ 708 1043  961  781]\n",
      " [ 878  901  927 1016]]\n"
     ]
    }
   ],
   "source": [
    "matrix = np.random.randint(10,99,(16,16))\n",
    "res=matrix.copy()\n",
    "res.shape=(64, 4)\n",
    "res=np.sum(res, axis=1)\n",
    "res.shape=(4, 4, 4)\n",
    "res=np.sum(res, axis=1)\n",
    "print(matrix)\n",
    "print(res)"
   ]
  },
  {
   "cell_type": "markdown",
   "metadata": {},
   "source": [
    "Найти n наибольших значений в массиве"
   ]
  },
  {
   "cell_type": "code",
   "execution_count": 19,
   "metadata": {},
   "outputs": [
    {
     "name": "stdout",
     "output_type": "stream",
     "text": [
      "[9999 9998 9997 9996 9995]\n"
     ]
    }
   ],
   "source": [
    "a = np.arange(10000)\n",
    "np.random.shuffle(a)\n",
    "n = 5\n",
    "\n",
    "print (a[np.argpartition(-a,n)[:n]])"
   ]
  },
  {
   "cell_type": "markdown",
   "metadata": {},
   "source": [
    "Построить прямое произведение массивов (все комбинации с каждым элементом)"
   ]
  },
  {
   "cell_type": "code",
   "execution_count": 20,
   "metadata": {},
   "outputs": [
    {
     "name": "stdout",
     "output_type": "stream",
     "text": [
      "[[1 4 6]\n",
      " [1 4 7]\n",
      " [1 5 6]\n",
      " [1 5 7]\n",
      " [2 4 6]\n",
      " [2 4 7]\n",
      " [2 5 6]\n",
      " [2 5 7]\n",
      " [3 4 6]\n",
      " [3 4 7]\n",
      " [3 5 6]\n",
      " [3 5 7]]\n"
     ]
    }
   ],
   "source": [
    "def cartesian(arrays):\n",
    "    arrays = [np.asarray(a) for a in arrays]\n",
    "    shape = map(len, arrays)\n",
    "\n",
    "    ix = np.indices(shape, dtype=int)\n",
    "    ix = ix.reshape(len(arrays), -1).T\n",
    "\n",
    "    for n, arr in enumerate(arrays):\n",
    "        ix[:, n] = arrays[n][ix[:, n]]\n",
    "\n",
    "    return ix\n",
    "\n",
    "print(cartesian(([1, 2, 3], [4, 5], [6, 7])))"
   ]
  },
  {
   "cell_type": "markdown",
   "metadata": {},
   "source": [
    "Даны 2 массива A (8x3) и B (2x2). Найти строки в A, которые содержат элементы из каждой строки в B, независимо от порядка элементов в B"
   ]
  },
  {
   "cell_type": "code",
   "execution_count": 21,
   "metadata": {},
   "outputs": [
    {
     "name": "stdout",
     "output_type": "stream",
     "text": [
      "[3 4 6]\n"
     ]
    }
   ],
   "source": [
    "A = np.random.randint(0,5,(8,3))\n",
    "B = np.random.randint(0,5,(2,2))\n",
    "\n",
    "C = (A[..., np.newaxis, np.newaxis] == B)\n",
    "rows = (C.sum(axis=(1,2,3)) >= B.shape[1]).nonzero()[0]\n",
    "print(rows)"
   ]
  },
  {
   "cell_type": "markdown",
   "metadata": {},
   "source": [
    "Дана 10x3 матрица, найти строки из неравных значений (например [2,2,3])"
   ]
  },
  {
   "cell_type": "code",
   "execution_count": 22,
   "metadata": {},
   "outputs": [
    {
     "name": "stdout",
     "output_type": "stream",
     "text": [
      "[[4 3 1]\n",
      " [2 2 4]\n",
      " [1 1 3]\n",
      " [0 3 1]\n",
      " [0 0 0]\n",
      " [3 0 3]\n",
      " [4 0 3]\n",
      " [4 2 4]\n",
      " [1 3 0]\n",
      " [1 3 2]]\n",
      "[[4 3 1]\n",
      " [2 2 4]\n",
      " [1 1 3]\n",
      " [0 3 1]\n",
      " [3 0 3]\n",
      " [4 0 3]\n",
      " [4 2 4]\n",
      " [1 3 0]\n",
      " [1 3 2]]\n"
     ]
    }
   ],
   "source": [
    "Z = np.random.randint(0,5,(10,3))\n",
    "E = np.logical_and.reduce(Z[:,1:] == Z[:,:-1], axis=1)\n",
    "U = Z[~E]\n",
    "print(Z)\n",
    "print(U)"
   ]
  },
  {
   "cell_type": "markdown",
   "metadata": {},
   "source": [
    "Преобразовать вектор чисел в матрицу бинарных представлений"
   ]
  },
  {
   "cell_type": "code",
   "execution_count": 23,
   "metadata": {},
   "outputs": [
    {
     "name": "stdout",
     "output_type": "stream",
     "text": [
      "[[0 0 0 0 0 0 0 0]\n",
      " [0 0 0 0 0 0 0 1]\n",
      " [0 0 0 0 0 0 1 0]\n",
      " [0 0 0 0 0 0 1 1]\n",
      " [0 0 0 0 1 1 1 1]\n",
      " [0 0 0 1 0 0 0 0]\n",
      " [0 0 1 0 0 0 0 0]\n",
      " [0 1 0 0 0 0 0 0]\n",
      " [1 0 0 0 0 0 0 0]]\n"
     ]
    }
   ],
   "source": [
    "I = np.array([0, 1, 2, 3, 15, 16, 32, 64, 128], dtype=np.uint8)\n",
    "print(np.unpackbits(I[:, np.newaxis], axis=1))"
   ]
  },
  {
   "cell_type": "markdown",
   "metadata": {},
   "source": [
    "Дан двумерный массив. Найти все различные строки"
   ]
  },
  {
   "cell_type": "code",
   "execution_count": 24,
   "metadata": {},
   "outputs": [
    {
     "name": "stdout",
     "output_type": "stream",
     "text": [
      "[[0 0 0]\n",
      " [0 0 1]\n",
      " [1 0 0]\n",
      " [1 1 0]\n",
      " [1 1 1]]\n"
     ]
    }
   ],
   "source": [
    "Z = np.random.randint(0, 2, (6,3))\n",
    "T = np.ascontiguousarray(Z).view(np.dtype((np.void, Z.dtype.itemsize * Z.shape[1])))\n",
    "_, idx = np.unique(T, return_index=True)\n",
    "uZ = Z[idx]\n",
    "print(uZ)"
   ]
  },
  {
   "cell_type": "markdown",
   "metadata": {},
   "source": [
    "Даны векторы A и B, написать einsum эквиваленты функций inner, outer, sum и mul"
   ]
  },
  {
   "cell_type": "code",
   "execution_count": 25,
   "metadata": {},
   "outputs": [
    {
     "ename": "ValueError",
     "evalue": "operand has more dimensions than subscripts given in einstein sum, but no '...' ellipsis provided to broadcast the extra dimensions.",
     "output_type": "error",
     "traceback": [
      "\u001b[1;31m---------------------------------------------------------------------------\u001b[0m",
      "\u001b[1;31mValueError\u001b[0m                                Traceback (most recent call last)",
      "\u001b[1;32m<ipython-input-25-7ef91ad44e23>\u001b[0m in \u001b[0;36m<module>\u001b[1;34m\u001b[0m\n\u001b[1;32m----> 1\u001b[1;33m \u001b[0mnp\u001b[0m\u001b[1;33m.\u001b[0m\u001b[0meinsum\u001b[0m\u001b[1;33m(\u001b[0m\u001b[1;34m'i->'\u001b[0m\u001b[1;33m,\u001b[0m \u001b[0mA\u001b[0m\u001b[1;33m)\u001b[0m       \u001b[1;31m# np.sum(A)\u001b[0m\u001b[1;33m\u001b[0m\u001b[1;33m\u001b[0m\u001b[0m\n\u001b[0m\u001b[0;32m      2\u001b[0m \u001b[0mnp\u001b[0m\u001b[1;33m.\u001b[0m\u001b[0meinsum\u001b[0m\u001b[1;33m(\u001b[0m\u001b[1;34m'i,i->i'\u001b[0m\u001b[1;33m,\u001b[0m \u001b[0mA\u001b[0m\u001b[1;33m,\u001b[0m \u001b[0mB\u001b[0m\u001b[1;33m)\u001b[0m \u001b[1;31m# A * B\u001b[0m\u001b[1;33m\u001b[0m\u001b[1;33m\u001b[0m\u001b[0m\n\u001b[0;32m      3\u001b[0m \u001b[0mnp\u001b[0m\u001b[1;33m.\u001b[0m\u001b[0meinsum\u001b[0m\u001b[1;33m(\u001b[0m\u001b[1;34m'i,i'\u001b[0m\u001b[1;33m,\u001b[0m \u001b[0mA\u001b[0m\u001b[1;33m,\u001b[0m \u001b[0mB\u001b[0m\u001b[1;33m)\u001b[0m    \u001b[1;31m# np.inner(A, B)\u001b[0m\u001b[1;33m\u001b[0m\u001b[1;33m\u001b[0m\u001b[0m\n\u001b[0;32m      4\u001b[0m \u001b[0mnp\u001b[0m\u001b[1;33m.\u001b[0m\u001b[0meinsum\u001b[0m\u001b[1;33m(\u001b[0m\u001b[1;34m'i,j'\u001b[0m\u001b[1;33m,\u001b[0m \u001b[0mA\u001b[0m\u001b[1;33m,\u001b[0m \u001b[0mB\u001b[0m\u001b[1;33m)\u001b[0m    \u001b[1;31m# np.outer(A, B)\u001b[0m\u001b[1;33m\u001b[0m\u001b[1;33m\u001b[0m\u001b[0m\n",
      "\u001b[1;32m<__array_function__ internals>\u001b[0m in \u001b[0;36meinsum\u001b[1;34m(*args, **kwargs)\u001b[0m\n",
      "\u001b[1;32m~\\anaconda3\\lib\\site-packages\\numpy\\core\\einsumfunc.py\u001b[0m in \u001b[0;36meinsum\u001b[1;34m(*operands, **kwargs)\u001b[0m\n\u001b[0;32m   1354\u001b[0m     \u001b[1;31m# If no optimization, run pure einsum\u001b[0m\u001b[1;33m\u001b[0m\u001b[1;33m\u001b[0m\u001b[1;33m\u001b[0m\u001b[0m\n\u001b[0;32m   1355\u001b[0m     \u001b[1;32mif\u001b[0m \u001b[0moptimize_arg\u001b[0m \u001b[1;32mis\u001b[0m \u001b[1;32mFalse\u001b[0m\u001b[1;33m:\u001b[0m\u001b[1;33m\u001b[0m\u001b[1;33m\u001b[0m\u001b[0m\n\u001b[1;32m-> 1356\u001b[1;33m         \u001b[1;32mreturn\u001b[0m \u001b[0mc_einsum\u001b[0m\u001b[1;33m(\u001b[0m\u001b[1;33m*\u001b[0m\u001b[0moperands\u001b[0m\u001b[1;33m,\u001b[0m \u001b[1;33m**\u001b[0m\u001b[0mkwargs\u001b[0m\u001b[1;33m)\u001b[0m\u001b[1;33m\u001b[0m\u001b[1;33m\u001b[0m\u001b[0m\n\u001b[0m\u001b[0;32m   1357\u001b[0m \u001b[1;33m\u001b[0m\u001b[0m\n\u001b[0;32m   1358\u001b[0m     \u001b[0mvalid_einsum_kwargs\u001b[0m \u001b[1;33m=\u001b[0m \u001b[1;33m[\u001b[0m\u001b[1;34m'out'\u001b[0m\u001b[1;33m,\u001b[0m \u001b[1;34m'dtype'\u001b[0m\u001b[1;33m,\u001b[0m \u001b[1;34m'order'\u001b[0m\u001b[1;33m,\u001b[0m \u001b[1;34m'casting'\u001b[0m\u001b[1;33m]\u001b[0m\u001b[1;33m\u001b[0m\u001b[1;33m\u001b[0m\u001b[0m\n",
      "\u001b[1;31mValueError\u001b[0m: operand has more dimensions than subscripts given in einstein sum, but no '...' ellipsis provided to broadcast the extra dimensions."
     ]
    }
   ],
   "source": [
    "np.einsum('i->', A)       # np.sum(A)\n",
    "np.einsum('i,i->i', A, B) # A * B\n",
    "np.einsum('i,i', A, B)    # np.inner(A, B)\n",
    "np.einsum('i,j', A, B)    # np.outer(A, B)"
   ]
  }
 ],
 "metadata": {
  "kernelspec": {
   "display_name": "Python 3",
   "language": "python",
   "name": "python3"
  },
  "language_info": {
   "codemirror_mode": {
    "name": "ipython",
    "version": 3
   },
   "file_extension": ".py",
   "mimetype": "text/x-python",
   "name": "python",
   "nbconvert_exporter": "python",
   "pygments_lexer": "ipython3",
   "version": "3.8.3"
  }
 },
 "nbformat": 4,
 "nbformat_minor": 4
}
