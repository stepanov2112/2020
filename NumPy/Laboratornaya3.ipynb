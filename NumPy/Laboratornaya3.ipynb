{
 "cells": [
  {
   "cell_type": "markdown",
   "metadata": {},
   "source": [
    "# Лабораторная работа №3"
   ]
  },
  {
   "cell_type": "code",
   "execution_count": 2,
   "metadata": {},
   "outputs": [],
   "source": [
    "import numpy as np"
   ]
  },
  {
   "cell_type": "markdown",
   "metadata": {},
   "source": [
    "Дан вектор [1, 2, 3, 4, 5], построить новый вектор с тремя нулями между каждым значением"
   ]
  },
  {
   "cell_type": "code",
   "execution_count": 3,
   "metadata": {},
   "outputs": [
    {
     "name": "stdout",
     "output_type": "stream",
     "text": [
      "[1. 0. 0. 0. 2. 0. 0. 0. 3. 0. 0. 0. 4. 0. 0. 0. 5.]\n"
     ]
    }
   ],
   "source": [
    "Z = np.array([1,2,3,4,5])\n",
    "nz = 3\n",
    "Z0 = np.zeros(len(Z) + (len(Z)-1)*(nz))\n",
    "Z0[::nz+1] = Z\n",
    "print(Z0)"
   ]
  },
  {
   "cell_type": "markdown",
   "metadata": {},
   "source": [
    "Поменять 2 строки в матрице"
   ]
  },
  {
   "cell_type": "code",
   "execution_count": 7,
   "metadata": {},
   "outputs": [
    {
     "name": "stdout",
     "output_type": "stream",
     "text": [
      "[[ 0  1  2  3  4]\n",
      " [ 5  6  7  8  9]\n",
      " [10 11 12 13 14]\n",
      " [15 16 17 18 19]\n",
      " [20 21 22 23 24]]\n",
      "\n",
      "[[ 5  6  7  8  9]\n",
      " [ 0  1  2  3  4]\n",
      " [10 11 12 13 14]\n",
      " [15 16 17 18 19]\n",
      " [20 21 22 23 24]]\n"
     ]
    }
   ],
   "source": [
    "A = np.arange(25).reshape(5,5)\n",
    "print(A)\n",
    "A[[0,1]] = A[[1,0]]\n",
    "print()\n",
    "print(A)"
   ]
  },
  {
   "cell_type": "markdown",
   "metadata": {},
   "source": [
    "Рассмотрим набор из 10 троек, описывающих 10 треугольников (с общими вершинами), найти множество уникальных отрезков, составляющих все треугольники"
   ]
  },
  {
   "cell_type": "code",
   "execution_count": 8,
   "metadata": {},
   "outputs": [
    {
     "name": "stdout",
     "output_type": "stream",
     "text": [
      "[( 4, 37) ( 4, 58) ( 5, 14) (14, 14) (18, 23) (18, 41) (20, 34) (20, 58)\n",
      " (23, 41) (25, 55) (25, 56) (29, 64) (29, 68) (32, 43) (32, 71) (32, 76)\n",
      " (32, 78) (33, 59) (33, 88) (34, 58) (37, 58) (43, 76) (48, 72) (48, 80)\n",
      " (55, 56) (59, 88) (64, 68) (71, 78) (72, 80)]\n"
     ]
    }
   ],
   "source": [
    "faces = np.random.randint(0,100,(10,3))\n",
    "F = np.roll(faces.repeat(2,axis=1),-1,axis=1)\n",
    "F = F.reshape(len(F)*3,2)\n",
    "F = np.sort(F,axis=1)\n",
    "G = F.view( dtype=[('p0',F.dtype),('p1',F.dtype)] )\n",
    "G = np.unique(G)\n",
    "print(G)"
   ]
  },
  {
   "cell_type": "markdown",
   "metadata": {},
   "source": [
    "Дан массив C; создать массив A, что np.bincount(A) == C"
   ]
  },
  {
   "cell_type": "code",
   "execution_count": 9,
   "metadata": {},
   "outputs": [
    {
     "name": "stdout",
     "output_type": "stream",
     "text": [
      "[1 1 2 3 4 4 6]\n"
     ]
    }
   ],
   "source": [
    "C = np.bincount([1,1,2,3,4,4,6])\n",
    "A = np.repeat(np.arange(len(C)), C)\n",
    "print(A)"
   ]
  },
  {
   "cell_type": "markdown",
   "metadata": {},
   "source": [
    "Посчитать среднее, используя плавающее окно"
   ]
  },
  {
   "cell_type": "code",
   "execution_count": 10,
   "metadata": {
    "scrolled": true
   },
   "outputs": [
    {
     "name": "stdout",
     "output_type": "stream",
     "text": [
      "[ 1.  2.  3.  4.  5.  6.  7.  8.  9. 10. 11. 12. 13. 14. 15. 16. 17. 18.]\n"
     ]
    }
   ],
   "source": [
    "def moving_average(a, n=3):\n",
    "    ret = np.cumsum(a, dtype=float)\n",
    "    ret[n:] = ret[n:] - ret[:-n]\n",
    "    return ret[n - 1:] / n\n",
    "\n",
    "print(moving_average(np.arange(20), 3))"
   ]
  },
  {
   "cell_type": "markdown",
   "metadata": {},
   "source": [
    "Дан вектор Z, построить матрицу, первая строка которой (Z[0],Z[1],Z[2]), каждая последующая сдвинута на 1 (последняя (Z[-3],Z[-2],Z[-1]))"
   ]
  },
  {
   "cell_type": "code",
   "execution_count": 3,
   "metadata": {},
   "outputs": [
    {
     "name": "stdout",
     "output_type": "stream",
     "text": [
      "[[0 1 2]\n",
      " [1 2 3]\n",
      " [2 3 4]\n",
      " [3 4 5]\n",
      " [4 5 6]\n",
      " [5 6 7]\n",
      " [6 7 8]\n",
      " [7 8 9]]\n"
     ]
    }
   ],
   "source": [
    "a = np.arange(10)\n",
    "s = 3\n",
    "b = []\n",
    "for i in range(len(a)+1-s):\n",
    "    list = []\n",
    "    for j in range(s):\n",
    "        list.append(a[i+j])\n",
    "    b.append(list)\n",
    "c = np.array(b)\n",
    "print(c)"
   ]
  },
  {
   "cell_type": "markdown",
   "metadata": {},
   "source": [
    "Инвертировать булево значение, или поменять знак у числового массива без создания нового"
   ]
  },
  {
   "cell_type": "code",
   "execution_count": 11,
   "metadata": {},
   "outputs": [
    {
     "name": "stdout",
     "output_type": "stream",
     "text": [
      "[ 0  1  2  3 -4 -5 -6  7  8  9]\n",
      "[ 0 -1 -2 -3  4  5  6 -7 -8 -9]\n"
     ]
    }
   ],
   "source": [
    "a = np.arange(10)\n",
    "a[(a>3) & (a<7)] *= -1\n",
    "print(a)\n",
    "print(np.negative(a))"
   ]
  },
  {
   "cell_type": "markdown",
   "metadata": {},
   "source": [
    "Посчитать ранг матрицы"
   ]
  },
  {
   "cell_type": "code",
   "execution_count": 16,
   "metadata": {},
   "outputs": [
    {
     "name": "stdout",
     "output_type": "stream",
     "text": [
      "10\n"
     ]
    }
   ],
   "source": [
    "a = np.random.uniform(0,1,(10,10))\n",
    "rank = np.linalg.matrix_rank(a)\n",
    "print(rank)"
   ]
  },
  {
   "cell_type": "markdown",
   "metadata": {},
   "source": [
    "Найти наиболее частое значение в массиве"
   ]
  },
  {
   "cell_type": "code",
   "execution_count": 13,
   "metadata": {},
   "outputs": [
    {
     "name": "stdout",
     "output_type": "stream",
     "text": [
      "[6 6 4 8 5 7 4 8 2 7 3 9 5 7 5 0 1 0 1 6 6 0 4 8 8 9 0 9 4 4 0 8 2 8 5 1 8\n",
      " 3 0 2 8 1 8 9 7 8 9 1 0 0]\n",
      "[ 8  5  3  2  5  4  4  4 10  5]\n",
      "8\n"
     ]
    }
   ],
   "source": [
    "a = np.random.randint(0,10,50)\n",
    "print(a)\n",
    "print(np.bincount(a))\n",
    "print(np.bincount(a).argmax())"
   ]
  },
  {
   "cell_type": "markdown",
   "metadata": {},
   "source": [
    "Извлечь все смежные 3x3 блоки из 10x10 матрицы"
   ]
  },
  {
   "cell_type": "code",
   "execution_count": 26,
   "metadata": {
    "scrolled": true
   },
   "outputs": [
    {
     "name": "stdout",
     "output_type": "stream",
     "text": [
      "[[4 4 2 3 4]\n",
      " [3 4 1 4 1]\n",
      " [2 1 0 0 4]\n",
      " [0 2 4 3 1]\n",
      " [4 2 0 0 3]]\n",
      "[[[4 4 2]\n",
      "  [3 4 1]\n",
      "  [2 1 0]]\n",
      "\n",
      " [[4 2 3]\n",
      "  [4 1 4]\n",
      "  [1 0 0]]\n",
      "\n",
      " [[2 3 4]\n",
      "  [1 4 1]\n",
      "  [0 0 4]]\n",
      "\n",
      " [[3 4 1]\n",
      "  [2 1 0]\n",
      "  [0 2 4]]\n",
      "\n",
      " [[4 1 4]\n",
      "  [1 0 0]\n",
      "  [2 4 3]]\n",
      "\n",
      " [[1 4 1]\n",
      "  [0 0 4]\n",
      "  [4 3 1]]\n",
      "\n",
      " [[2 1 0]\n",
      "  [0 2 4]\n",
      "  [4 2 0]]\n",
      "\n",
      " [[1 0 0]\n",
      "  [2 4 3]\n",
      "  [2 0 0]]\n",
      "\n",
      " [[0 0 4]\n",
      "  [4 3 1]\n",
      "  [0 0 3]]]\n"
     ]
    }
   ],
   "source": [
    "n = 5\n",
    "a = np.random.randint(0,5,(n,n))\n",
    "s = 3\n",
    "b = []\n",
    "print(a)\n",
    "for i in range((n-2)):\n",
    "    for j in range(n-2):\n",
    "        temp = a[i:i+s,j:j+s]\n",
    "        b.append(temp)\n",
    "c = np.array(b)\n",
    "print(c)\n"
   ]
  },
  {
   "cell_type": "markdown",
   "metadata": {},
   "source": [
    "Дан массив 16x16, посчитать сумму по блокам 4x4"
   ]
  },
  {
   "cell_type": "code",
   "execution_count": 90,
   "metadata": {},
   "outputs": [
    {
     "name": "stdout",
     "output_type": "stream",
     "text": [
      "[[16 13 92 44 44 45 65 95 40 12 90 17 10 64 37 32]\n",
      " [91 56 90 37 60 46 26 84 51 48 36 65 91 54 73 36]\n",
      " [28 10 53 52 76 34 65 72 81 78 31 64 72 95 75 36]\n",
      " [13 71 78 79 75 59 37 86 93 86 27 27 51 78 48 63]\n",
      " [31 89 60 47 30 51 64 86 15 19 32 55 48 62 48 73]\n",
      " [37 57 89 76 49 24 63 85 85 75 23 77 37 78 23 22]\n",
      " [96 87 67 36 32 97 95 34 74 84 86 56 23 72 45 59]\n",
      " [69 68 35 72 56 74 86 55 45 98 22 27 90 83 55 18]\n",
      " [37 75 87 25 78 94 27 34 74 31 80 29 98 48 27 98]\n",
      " [58 11 29 61 66 93 74 24 21 84 43 25 67 91 44 69]\n",
      " [29 30 35 63 59 47 45 15 60 50 71 55 95 52 87 98]\n",
      " [88 42 32 29 12 33 43 29 50 15 37 39 70 36 26 23]\n",
      " [22 98 97 49 36 80 35 81 65 46 12 20 37 18 69 48]\n",
      " [68 65 18 20 49 61 73 98 12 46 84 92 21 95 80 37]\n",
      " [79 24 88 23 12 73 66 80 65 72 23 60 76 55 47 53]\n",
      " [26 34 47 34 59 65 83 42 23 67 68 51 27 93 24 62]]\n",
      "[[ 823  969  846  915]\n",
      " [1016  981  873  836]\n",
      " [ 731  773  764 1029]\n",
      " [ 792  993  806  842]]\n"
     ]
    }
   ],
   "source": [
    "matrix = np.random.randint(10,99,(16,16))\n",
    "res=matrix.copy()\n",
    "res.shape=(64, 4)\n",
    "res=np.sum(res, axis=1)\n",
    "res.shape=(4, 4, 4)\n",
    "res=np.sum(res, axis=1)\n",
    "print(matrix)\n",
    "print(res)"
   ]
  },
  {
   "cell_type": "markdown",
   "metadata": {},
   "source": [
    "Рассмотрим множество матриц (n,n) и множество из p векторов (n,1). Посчитать сумму p произведений матриц (результат имеет размерность (n,1))"
   ]
  },
  {
   "cell_type": "code",
   "execution_count": 28,
   "metadata": {},
   "outputs": [
    {
     "name": "stdout",
     "output_type": "stream",
     "text": [
      "[50. 50. 50. 50. 50. 50. 50. 50. 50. 50.]\n"
     ]
    }
   ],
   "source": [
    "p, n = 5, 10\n",
    "a_vector = np.ones((p,n,))\n",
    "a_matrix = np.ones((p,n,n))\n",
    "print(np.einsum('ijk,ik->k',a_matrix, a_vector))"
   ]
  },
  {
   "cell_type": "markdown",
   "metadata": {},
   "source": [
    "Найти n наибольших значений в массиве"
   ]
  },
  {
   "cell_type": "code",
   "execution_count": 91,
   "metadata": {},
   "outputs": [
    {
     "name": "stdout",
     "output_type": "stream",
     "text": [
      "[89 90 92]\n"
     ]
    }
   ],
   "source": [
    "a = np.random.randint(0, 100, (5, 5))\n",
    "n =3\n",
    "b = a.flatten()\n",
    "b.sort()\n",
    "print(b[-n:])"
   ]
  },
  {
   "cell_type": "markdown",
   "metadata": {},
   "source": [
    "Построить прямое произведение массивов (все комбинации с каждым элементом)"
   ]
  },
  {
   "cell_type": "code",
   "execution_count": 101,
   "metadata": {},
   "outputs": [
    {
     "name": "stdout",
     "output_type": "stream",
     "text": [
      "[[1 4 6]\n",
      " [1 4 7]\n",
      " [1 5 6]\n",
      " [1 5 7]\n",
      " [2 4 6]\n",
      " [2 4 7]\n",
      " [2 5 6]\n",
      " [2 5 7]\n",
      " [3 4 6]\n",
      " [3 4 7]\n",
      " [3 5 6]\n",
      " [3 5 7]]\n"
     ]
    }
   ],
   "source": [
    "def all_mult(arrays):\n",
    "    arrays = [np.asarray(a) for a in arrays]\n",
    "    shape = map(len, arrays)\n",
    "\n",
    "    ix = np.indices(shape, dtype=int)\n",
    "    ix = ix.reshape(len(arrays), -1).T\n",
    "\n",
    "    for n, arr in enumerate(arrays):\n",
    "        ix[:, n] = arrays[n][ix[:, n]]\n",
    "\n",
    "    return ix\n",
    "\n",
    "print(all_mult(([1, 2, 3], [4, 5], [6, 7])))"
   ]
  },
  {
   "cell_type": "markdown",
   "metadata": {},
   "source": [
    "Даны 2 массива A (8x3) и B (2x2). Найти строки в A, которые содержат элементы из каждой строки в B, независимо от порядка элементов в B"
   ]
  },
  {
   "cell_type": "code",
   "execution_count": 21,
   "metadata": {},
   "outputs": [
    {
     "name": "stdout",
     "output_type": "stream",
     "text": [
      "[3 4 6]\n"
     ]
    }
   ],
   "source": [
    "A = np.random.randint(0,5,(8,3))\n",
    "B = np.random.randint(0,5,(2,2))\n",
    "\n",
    "C = (A[..., np.newaxis, np.newaxis] == B)\n",
    "rows = (C.sum(axis=(1,2,3)) >= B.shape[1]).nonzero()[0]\n",
    "print(rows)"
   ]
  },
  {
   "cell_type": "markdown",
   "metadata": {},
   "source": [
    "Дана 10x3 матрица, найти строки из неравных значений (например [2,2,3])"
   ]
  },
  {
   "cell_type": "code",
   "execution_count": 22,
   "metadata": {},
   "outputs": [
    {
     "name": "stdout",
     "output_type": "stream",
     "text": [
      "[[4 3 1]\n",
      " [2 2 4]\n",
      " [1 1 3]\n",
      " [0 3 1]\n",
      " [0 0 0]\n",
      " [3 0 3]\n",
      " [4 0 3]\n",
      " [4 2 4]\n",
      " [1 3 0]\n",
      " [1 3 2]]\n",
      "[[4 3 1]\n",
      " [2 2 4]\n",
      " [1 1 3]\n",
      " [0 3 1]\n",
      " [3 0 3]\n",
      " [4 0 3]\n",
      " [4 2 4]\n",
      " [1 3 0]\n",
      " [1 3 2]]\n"
     ]
    }
   ],
   "source": [
    "Z = np.random.randint(0,5,(10,3))\n",
    "E = np.logical_and.reduce(Z[:,1:] == Z[:,:-1], axis=1)\n",
    "U = Z[~E]\n",
    "print(Z)\n",
    "print(U)"
   ]
  },
  {
   "cell_type": "markdown",
   "metadata": {},
   "source": [
    "Преобразовать вектор чисел в матрицу бинарных представлений"
   ]
  },
  {
   "cell_type": "code",
   "execution_count": 23,
   "metadata": {},
   "outputs": [
    {
     "name": "stdout",
     "output_type": "stream",
     "text": [
      "[[0 0 0 0 0 0 0 0]\n",
      " [0 0 0 0 0 0 0 1]\n",
      " [0 0 0 0 0 0 1 0]\n",
      " [0 0 0 0 0 0 1 1]\n",
      " [0 0 0 0 1 1 1 1]\n",
      " [0 0 0 1 0 0 0 0]\n",
      " [0 0 1 0 0 0 0 0]\n",
      " [0 1 0 0 0 0 0 0]\n",
      " [1 0 0 0 0 0 0 0]]\n"
     ]
    }
   ],
   "source": [
    "I = np.array([0, 1, 2, 3, 15, 16, 32, 64, 128], dtype=np.uint8)\n",
    "print(np.unpackbits(I[:, np.newaxis], axis=1))"
   ]
  },
  {
   "cell_type": "markdown",
   "metadata": {},
   "source": [
    "Дан двумерный массив. Найти все различные строки"
   ]
  },
  {
   "cell_type": "code",
   "execution_count": 120,
   "metadata": {},
   "outputs": [
    {
     "name": "stdout",
     "output_type": "stream",
     "text": [
      "[[0 0 0]\n",
      " [1 1 0]\n",
      " [0 0 1]\n",
      " [1 1 1]\n",
      " [0 0 0]\n",
      " [0 1 0]]\n",
      "razlichnie stroki\n",
      "[[0 0 0]\n",
      " [1 1 0]\n",
      " [0 0 1]\n",
      " [1 1 1]\n",
      " [0 1 0]]\n"
     ]
    }
   ],
   "source": [
    "Z = np.random.randint(0, 2, (6,3))\n",
    "print(Z)\n",
    "all_1 = list()\n",
    "for i in range(len(Z)):\n",
    "    list_1 = list(Z[i,])\n",
    "    m=0\n",
    "    for i in all_1:\n",
    "        if i == list_1:\n",
    "            m += 1\n",
    "    if m == 0:\n",
    "        all_1.append(list_1)\n",
    "print(\"razlichnie stroki\", end=\"\\n\")\n",
    "print(np.array(all_1))"
   ]
  },
  {
   "cell_type": "code",
   "execution_count": 109,
   "metadata": {},
   "outputs": [
    {
     "name": "stdout",
     "output_type": "stream",
     "text": [
      "[5 3 9 2 4]\n",
      "[1 6 9 7 8]\n",
      "sum\n",
      "23\n",
      "23\n",
      "multiplication\n",
      "[ 5 18 81 14 32]\n",
      "[ 5 18 81 14 32]\n",
      "inner\n",
      "150\n",
      "150\n",
      "outer\n",
      "[[ 5 30 45 35 40]\n",
      " [ 3 18 27 21 24]\n",
      " [ 9 54 81 63 72]\n",
      " [ 2 12 18 14 16]\n",
      " [ 4 24 36 28 32]]\n",
      "[[ 5 30 45 35 40]\n",
      " [ 3 18 27 21 24]\n",
      " [ 9 54 81 63 72]\n",
      " [ 2 12 18 14 16]\n",
      " [ 4 24 36 28 32]]\n"
     ]
    }
   ],
   "source": [
    "arr1 = np.random.randint(0,10,5)\n",
    "arr2 = np.random.randint(0,10,5)\n",
    "\n",
    "print(arr1)\n",
    "print(arr2)\n",
    "print(\"sum\", end=\"\\n\")\n",
    "print(np.einsum('i->',arr1))\n",
    "print(np.sum(arr1))\n",
    "print(\"multiplication\", end=\"\\n\")\n",
    "print(np.einsum('i,i->i',arr1, arr2))\n",
    "print(np.multiply(arr1, arr2))\n",
    "print(\"inner\", end=\"\\n\")\n",
    "print(np.einsum('i,i->', arr1, arr2))\n",
    "print(np.inner(arr1,arr2))\n",
    "print(\"outer\", end=\"\\n\")\n",
    "print(np.einsum('i,j->ij', arr1, arr2))\n",
    "print(np.outer(arr1,arr2))"
   ]
  }
 ],
 "metadata": {
  "kernelspec": {
   "display_name": "Python 3",
   "language": "python",
   "name": "python3"
  },
  "language_info": {
   "codemirror_mode": {
    "name": "ipython",
    "version": 3
   },
   "file_extension": ".py",
   "mimetype": "text/x-python",
   "name": "python",
   "nbconvert_exporter": "python",
   "pygments_lexer": "ipython3",
   "version": "3.8.3"
  }
 },
 "nbformat": 4,
 "nbformat_minor": 4
}
